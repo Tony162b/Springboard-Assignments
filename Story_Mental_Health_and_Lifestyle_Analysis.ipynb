{
  "cells": [
    {
      "cell_type": "markdown",
      "id": "0c1cd72e",
      "metadata": {
        "id": "0c1cd72e"
      },
      "source": [
        "#  Mental Health and Lifestyle Analysis\n",
        "\n",
        "# Goal: Explore the relationship between demographics, lifestyle, and mental health"
      ]
    },
    {
      "cell_type": "markdown",
      "id": "78929d88",
      "metadata": {
        "id": "78929d88"
      },
      "source": [
        "# Introduction\n",
        "\n",
        "This project explores the *Mental Health and Lifestyle Dataset* to understand how demographics\n",
        "and lifestyle choices relate to mental health conditions.  \n",
        "\n",
        "We will ask guiding questions, investigate trends, and visualize findings to build a clear data story.\n"
      ]
    },
    {
      "cell_type": "code",
      "execution_count": 4,
      "id": "4e17cb75",
      "metadata": {
        "id": "4e17cb75"
      },
      "outputs": [],
      "source": [
        "# import libraries\n",
        "import pandas as pd\n",
        "import matplotlib.pyplot as plt\n",
        "import seaborn as sns\n",
        "\n",
        "# For clean plots\n",
        "sns.set(style=\"whitegrid\")"
      ]
    },
    {
      "cell_type": "code",
      "execution_count": 5,
      "id": "d506a755",
      "metadata": {
        "colab": {
          "base_uri": "https://localhost:8080/",
          "height": 224
        },
        "id": "d506a755",
        "outputId": "e4c2a066-0397-4419-faa6-48e9974970b8"
      },
      "outputs": [
        {
          "output_type": "execute_result",
          "data": {
            "text/plain": [
              "     Country  Age  Gender Exercise Level   Diet Type  Sleep Hours  \\\n",
              "0     Brazil   48    Male            Low  Vegetarian          6.3   \n",
              "1  Australia   31    Male       Moderate       Vegan          4.9   \n",
              "2      Japan   37  Female            Low  Vegetarian          7.2   \n",
              "3     Brazil   35    Male            Low       Vegan          7.2   \n",
              "4    Germany   46    Male            Low    Balanced          7.3   \n",
              "\n",
              "  Stress Level Mental Health Condition  Work Hours per Week  \\\n",
              "0          Low                     NaN                   21   \n",
              "1          Low                    PTSD                   48   \n",
              "2         High                     NaN                   43   \n",
              "3          Low              Depression                   43   \n",
              "4          Low                 Anxiety                   35   \n",
              "\n",
              "   Screen Time per Day (Hours)  Social Interaction Score  Happiness Score  \n",
              "0                          4.0                       7.8              6.5  \n",
              "1                          5.2                       8.2              6.8  \n",
              "2                          4.7                       9.6              9.7  \n",
              "3                          2.2                       8.2              6.6  \n",
              "4                          3.6                       4.7              4.4  "
            ],
            "text/html": [
              "\n",
              "  <div id=\"df-88a1ebd1-ecda-45c2-a75b-dd764b2027d6\" class=\"colab-df-container\">\n",
              "    <div>\n",
              "<style scoped>\n",
              "    .dataframe tbody tr th:only-of-type {\n",
              "        vertical-align: middle;\n",
              "    }\n",
              "\n",
              "    .dataframe tbody tr th {\n",
              "        vertical-align: top;\n",
              "    }\n",
              "\n",
              "    .dataframe thead th {\n",
              "        text-align: right;\n",
              "    }\n",
              "</style>\n",
              "<table border=\"1\" class=\"dataframe\">\n",
              "  <thead>\n",
              "    <tr style=\"text-align: right;\">\n",
              "      <th></th>\n",
              "      <th>Country</th>\n",
              "      <th>Age</th>\n",
              "      <th>Gender</th>\n",
              "      <th>Exercise Level</th>\n",
              "      <th>Diet Type</th>\n",
              "      <th>Sleep Hours</th>\n",
              "      <th>Stress Level</th>\n",
              "      <th>Mental Health Condition</th>\n",
              "      <th>Work Hours per Week</th>\n",
              "      <th>Screen Time per Day (Hours)</th>\n",
              "      <th>Social Interaction Score</th>\n",
              "      <th>Happiness Score</th>\n",
              "    </tr>\n",
              "  </thead>\n",
              "  <tbody>\n",
              "    <tr>\n",
              "      <th>0</th>\n",
              "      <td>Brazil</td>\n",
              "      <td>48</td>\n",
              "      <td>Male</td>\n",
              "      <td>Low</td>\n",
              "      <td>Vegetarian</td>\n",
              "      <td>6.3</td>\n",
              "      <td>Low</td>\n",
              "      <td>NaN</td>\n",
              "      <td>21</td>\n",
              "      <td>4.0</td>\n",
              "      <td>7.8</td>\n",
              "      <td>6.5</td>\n",
              "    </tr>\n",
              "    <tr>\n",
              "      <th>1</th>\n",
              "      <td>Australia</td>\n",
              "      <td>31</td>\n",
              "      <td>Male</td>\n",
              "      <td>Moderate</td>\n",
              "      <td>Vegan</td>\n",
              "      <td>4.9</td>\n",
              "      <td>Low</td>\n",
              "      <td>PTSD</td>\n",
              "      <td>48</td>\n",
              "      <td>5.2</td>\n",
              "      <td>8.2</td>\n",
              "      <td>6.8</td>\n",
              "    </tr>\n",
              "    <tr>\n",
              "      <th>2</th>\n",
              "      <td>Japan</td>\n",
              "      <td>37</td>\n",
              "      <td>Female</td>\n",
              "      <td>Low</td>\n",
              "      <td>Vegetarian</td>\n",
              "      <td>7.2</td>\n",
              "      <td>High</td>\n",
              "      <td>NaN</td>\n",
              "      <td>43</td>\n",
              "      <td>4.7</td>\n",
              "      <td>9.6</td>\n",
              "      <td>9.7</td>\n",
              "    </tr>\n",
              "    <tr>\n",
              "      <th>3</th>\n",
              "      <td>Brazil</td>\n",
              "      <td>35</td>\n",
              "      <td>Male</td>\n",
              "      <td>Low</td>\n",
              "      <td>Vegan</td>\n",
              "      <td>7.2</td>\n",
              "      <td>Low</td>\n",
              "      <td>Depression</td>\n",
              "      <td>43</td>\n",
              "      <td>2.2</td>\n",
              "      <td>8.2</td>\n",
              "      <td>6.6</td>\n",
              "    </tr>\n",
              "    <tr>\n",
              "      <th>4</th>\n",
              "      <td>Germany</td>\n",
              "      <td>46</td>\n",
              "      <td>Male</td>\n",
              "      <td>Low</td>\n",
              "      <td>Balanced</td>\n",
              "      <td>7.3</td>\n",
              "      <td>Low</td>\n",
              "      <td>Anxiety</td>\n",
              "      <td>35</td>\n",
              "      <td>3.6</td>\n",
              "      <td>4.7</td>\n",
              "      <td>4.4</td>\n",
              "    </tr>\n",
              "  </tbody>\n",
              "</table>\n",
              "</div>\n",
              "    <div class=\"colab-df-buttons\">\n",
              "\n",
              "  <div class=\"colab-df-container\">\n",
              "    <button class=\"colab-df-convert\" onclick=\"convertToInteractive('df-88a1ebd1-ecda-45c2-a75b-dd764b2027d6')\"\n",
              "            title=\"Convert this dataframe to an interactive table.\"\n",
              "            style=\"display:none;\">\n",
              "\n",
              "  <svg xmlns=\"http://www.w3.org/2000/svg\" height=\"24px\" viewBox=\"0 -960 960 960\">\n",
              "    <path d=\"M120-120v-720h720v720H120Zm60-500h600v-160H180v160Zm220 220h160v-160H400v160Zm0 220h160v-160H400v160ZM180-400h160v-160H180v160Zm440 0h160v-160H620v160ZM180-180h160v-160H180v160Zm440 0h160v-160H620v160Z\"/>\n",
              "  </svg>\n",
              "    </button>\n",
              "\n",
              "  <style>\n",
              "    .colab-df-container {\n",
              "      display:flex;\n",
              "      gap: 12px;\n",
              "    }\n",
              "\n",
              "    .colab-df-convert {\n",
              "      background-color: #E8F0FE;\n",
              "      border: none;\n",
              "      border-radius: 50%;\n",
              "      cursor: pointer;\n",
              "      display: none;\n",
              "      fill: #1967D2;\n",
              "      height: 32px;\n",
              "      padding: 0 0 0 0;\n",
              "      width: 32px;\n",
              "    }\n",
              "\n",
              "    .colab-df-convert:hover {\n",
              "      background-color: #E2EBFA;\n",
              "      box-shadow: 0px 1px 2px rgba(60, 64, 67, 0.3), 0px 1px 3px 1px rgba(60, 64, 67, 0.15);\n",
              "      fill: #174EA6;\n",
              "    }\n",
              "\n",
              "    .colab-df-buttons div {\n",
              "      margin-bottom: 4px;\n",
              "    }\n",
              "\n",
              "    [theme=dark] .colab-df-convert {\n",
              "      background-color: #3B4455;\n",
              "      fill: #D2E3FC;\n",
              "    }\n",
              "\n",
              "    [theme=dark] .colab-df-convert:hover {\n",
              "      background-color: #434B5C;\n",
              "      box-shadow: 0px 1px 3px 1px rgba(0, 0, 0, 0.15);\n",
              "      filter: drop-shadow(0px 1px 2px rgba(0, 0, 0, 0.3));\n",
              "      fill: #FFFFFF;\n",
              "    }\n",
              "  </style>\n",
              "\n",
              "    <script>\n",
              "      const buttonEl =\n",
              "        document.querySelector('#df-88a1ebd1-ecda-45c2-a75b-dd764b2027d6 button.colab-df-convert');\n",
              "      buttonEl.style.display =\n",
              "        google.colab.kernel.accessAllowed ? 'block' : 'none';\n",
              "\n",
              "      async function convertToInteractive(key) {\n",
              "        const element = document.querySelector('#df-88a1ebd1-ecda-45c2-a75b-dd764b2027d6');\n",
              "        const dataTable =\n",
              "          await google.colab.kernel.invokeFunction('convertToInteractive',\n",
              "                                                    [key], {});\n",
              "        if (!dataTable) return;\n",
              "\n",
              "        const docLinkHtml = 'Like what you see? Visit the ' +\n",
              "          '<a target=\"_blank\" href=https://colab.research.google.com/notebooks/data_table.ipynb>data table notebook</a>'\n",
              "          + ' to learn more about interactive tables.';\n",
              "        element.innerHTML = '';\n",
              "        dataTable['output_type'] = 'display_data';\n",
              "        await google.colab.output.renderOutput(dataTable, element);\n",
              "        const docLink = document.createElement('div');\n",
              "        docLink.innerHTML = docLinkHtml;\n",
              "        element.appendChild(docLink);\n",
              "      }\n",
              "    </script>\n",
              "  </div>\n",
              "\n",
              "\n",
              "    <div id=\"df-447286cb-9324-401b-b454-414b2bac48a5\">\n",
              "      <button class=\"colab-df-quickchart\" onclick=\"quickchart('df-447286cb-9324-401b-b454-414b2bac48a5')\"\n",
              "                title=\"Suggest charts\"\n",
              "                style=\"display:none;\">\n",
              "\n",
              "<svg xmlns=\"http://www.w3.org/2000/svg\" height=\"24px\"viewBox=\"0 0 24 24\"\n",
              "     width=\"24px\">\n",
              "    <g>\n",
              "        <path d=\"M19 3H5c-1.1 0-2 .9-2 2v14c0 1.1.9 2 2 2h14c1.1 0 2-.9 2-2V5c0-1.1-.9-2-2-2zM9 17H7v-7h2v7zm4 0h-2V7h2v10zm4 0h-2v-4h2v4z\"/>\n",
              "    </g>\n",
              "</svg>\n",
              "      </button>\n",
              "\n",
              "<style>\n",
              "  .colab-df-quickchart {\n",
              "      --bg-color: #E8F0FE;\n",
              "      --fill-color: #1967D2;\n",
              "      --hover-bg-color: #E2EBFA;\n",
              "      --hover-fill-color: #174EA6;\n",
              "      --disabled-fill-color: #AAA;\n",
              "      --disabled-bg-color: #DDD;\n",
              "  }\n",
              "\n",
              "  [theme=dark] .colab-df-quickchart {\n",
              "      --bg-color: #3B4455;\n",
              "      --fill-color: #D2E3FC;\n",
              "      --hover-bg-color: #434B5C;\n",
              "      --hover-fill-color: #FFFFFF;\n",
              "      --disabled-bg-color: #3B4455;\n",
              "      --disabled-fill-color: #666;\n",
              "  }\n",
              "\n",
              "  .colab-df-quickchart {\n",
              "    background-color: var(--bg-color);\n",
              "    border: none;\n",
              "    border-radius: 50%;\n",
              "    cursor: pointer;\n",
              "    display: none;\n",
              "    fill: var(--fill-color);\n",
              "    height: 32px;\n",
              "    padding: 0;\n",
              "    width: 32px;\n",
              "  }\n",
              "\n",
              "  .colab-df-quickchart:hover {\n",
              "    background-color: var(--hover-bg-color);\n",
              "    box-shadow: 0 1px 2px rgba(60, 64, 67, 0.3), 0 1px 3px 1px rgba(60, 64, 67, 0.15);\n",
              "    fill: var(--button-hover-fill-color);\n",
              "  }\n",
              "\n",
              "  .colab-df-quickchart-complete:disabled,\n",
              "  .colab-df-quickchart-complete:disabled:hover {\n",
              "    background-color: var(--disabled-bg-color);\n",
              "    fill: var(--disabled-fill-color);\n",
              "    box-shadow: none;\n",
              "  }\n",
              "\n",
              "  .colab-df-spinner {\n",
              "    border: 2px solid var(--fill-color);\n",
              "    border-color: transparent;\n",
              "    border-bottom-color: var(--fill-color);\n",
              "    animation:\n",
              "      spin 1s steps(1) infinite;\n",
              "  }\n",
              "\n",
              "  @keyframes spin {\n",
              "    0% {\n",
              "      border-color: transparent;\n",
              "      border-bottom-color: var(--fill-color);\n",
              "      border-left-color: var(--fill-color);\n",
              "    }\n",
              "    20% {\n",
              "      border-color: transparent;\n",
              "      border-left-color: var(--fill-color);\n",
              "      border-top-color: var(--fill-color);\n",
              "    }\n",
              "    30% {\n",
              "      border-color: transparent;\n",
              "      border-left-color: var(--fill-color);\n",
              "      border-top-color: var(--fill-color);\n",
              "      border-right-color: var(--fill-color);\n",
              "    }\n",
              "    40% {\n",
              "      border-color: transparent;\n",
              "      border-right-color: var(--fill-color);\n",
              "      border-top-color: var(--fill-color);\n",
              "    }\n",
              "    60% {\n",
              "      border-color: transparent;\n",
              "      border-right-color: var(--fill-color);\n",
              "    }\n",
              "    80% {\n",
              "      border-color: transparent;\n",
              "      border-right-color: var(--fill-color);\n",
              "      border-bottom-color: var(--fill-color);\n",
              "    }\n",
              "    90% {\n",
              "      border-color: transparent;\n",
              "      border-bottom-color: var(--fill-color);\n",
              "    }\n",
              "  }\n",
              "</style>\n",
              "\n",
              "      <script>\n",
              "        async function quickchart(key) {\n",
              "          const quickchartButtonEl =\n",
              "            document.querySelector('#' + key + ' button');\n",
              "          quickchartButtonEl.disabled = true;  // To prevent multiple clicks.\n",
              "          quickchartButtonEl.classList.add('colab-df-spinner');\n",
              "          try {\n",
              "            const charts = await google.colab.kernel.invokeFunction(\n",
              "                'suggestCharts', [key], {});\n",
              "          } catch (error) {\n",
              "            console.error('Error during call to suggestCharts:', error);\n",
              "          }\n",
              "          quickchartButtonEl.classList.remove('colab-df-spinner');\n",
              "          quickchartButtonEl.classList.add('colab-df-quickchart-complete');\n",
              "        }\n",
              "        (() => {\n",
              "          let quickchartButtonEl =\n",
              "            document.querySelector('#df-447286cb-9324-401b-b454-414b2bac48a5 button');\n",
              "          quickchartButtonEl.style.display =\n",
              "            google.colab.kernel.accessAllowed ? 'block' : 'none';\n",
              "        })();\n",
              "      </script>\n",
              "    </div>\n",
              "\n",
              "    </div>\n",
              "  </div>\n"
            ],
            "application/vnd.google.colaboratory.intrinsic+json": {
              "type": "dataframe",
              "variable_name": "df",
              "summary": "{\n  \"name\": \"df\",\n  \"rows\": 3000,\n  \"fields\": [\n    {\n      \"column\": \"Country\",\n      \"properties\": {\n        \"dtype\": \"category\",\n        \"num_unique_values\": 7,\n        \"samples\": [\n          \"Brazil\",\n          \"Australia\",\n          \"Canada\"\n        ],\n        \"semantic_type\": \"\",\n        \"description\": \"\"\n      }\n    },\n    {\n      \"column\": \"Age\",\n      \"properties\": {\n        \"dtype\": \"number\",\n        \"std\": 13,\n        \"min\": 18,\n        \"max\": 64,\n        \"num_unique_values\": 47,\n        \"samples\": [\n          57,\n          59,\n          56\n        ],\n        \"semantic_type\": \"\",\n        \"description\": \"\"\n      }\n    },\n    {\n      \"column\": \"Gender\",\n      \"properties\": {\n        \"dtype\": \"category\",\n        \"num_unique_values\": 3,\n        \"samples\": [\n          \"Male\",\n          \"Female\",\n          \"Other\"\n        ],\n        \"semantic_type\": \"\",\n        \"description\": \"\"\n      }\n    },\n    {\n      \"column\": \"Exercise Level\",\n      \"properties\": {\n        \"dtype\": \"category\",\n        \"num_unique_values\": 3,\n        \"samples\": [\n          \"Low\",\n          \"Moderate\",\n          \"High\"\n        ],\n        \"semantic_type\": \"\",\n        \"description\": \"\"\n      }\n    },\n    {\n      \"column\": \"Diet Type\",\n      \"properties\": {\n        \"dtype\": \"category\",\n        \"num_unique_values\": 5,\n        \"samples\": [\n          \"Vegan\",\n          \"Keto\",\n          \"Balanced\"\n        ],\n        \"semantic_type\": \"\",\n        \"description\": \"\"\n      }\n    },\n    {\n      \"column\": \"Sleep Hours\",\n      \"properties\": {\n        \"dtype\": \"number\",\n        \"std\": 1.4998657699935016,\n        \"min\": 1.4,\n        \"max\": 11.3,\n        \"num_unique_values\": 93,\n        \"samples\": [\n          6.2,\n          4.6,\n          4.1\n        ],\n        \"semantic_type\": \"\",\n        \"description\": \"\"\n      }\n    },\n    {\n      \"column\": \"Stress Level\",\n      \"properties\": {\n        \"dtype\": \"category\",\n        \"num_unique_values\": 3,\n        \"samples\": [\n          \"Low\",\n          \"High\",\n          \"Moderate\"\n        ],\n        \"semantic_type\": \"\",\n        \"description\": \"\"\n      }\n    },\n    {\n      \"column\": \"Mental Health Condition\",\n      \"properties\": {\n        \"dtype\": \"category\",\n        \"num_unique_values\": 4,\n        \"samples\": [\n          \"Depression\",\n          \"Bipolar\",\n          \"PTSD\"\n        ],\n        \"semantic_type\": \"\",\n        \"description\": \"\"\n      }\n    },\n    {\n      \"column\": \"Work Hours per Week\",\n      \"properties\": {\n        \"dtype\": \"number\",\n        \"std\": 11,\n        \"min\": 20,\n        \"max\": 59,\n        \"num_unique_values\": 40,\n        \"samples\": [\n          32,\n          25,\n          58\n        ],\n        \"semantic_type\": \"\",\n        \"description\": \"\"\n      }\n    },\n    {\n      \"column\": \"Screen Time per Day (Hours)\",\n      \"properties\": {\n        \"dtype\": \"number\",\n        \"std\": 1.7472314037017518,\n        \"min\": 2.0,\n        \"max\": 8.0,\n        \"num_unique_values\": 61,\n        \"samples\": [\n          4.0,\n          3.3,\n          5.1\n        ],\n        \"semantic_type\": \"\",\n        \"description\": \"\"\n      }\n    },\n    {\n      \"column\": \"Social Interaction Score\",\n      \"properties\": {\n        \"dtype\": \"number\",\n        \"std\": 2.5635319109813226,\n        \"min\": 1.0,\n        \"max\": 10.0,\n        \"num_unique_values\": 91,\n        \"samples\": [\n          7.0,\n          9.9,\n          1.3\n        ],\n        \"semantic_type\": \"\",\n        \"description\": \"\"\n      }\n    },\n    {\n      \"column\": \"Happiness Score\",\n      \"properties\": {\n        \"dtype\": \"number\",\n        \"std\": 2.557600979396936,\n        \"min\": 1.0,\n        \"max\": 10.0,\n        \"num_unique_values\": 91,\n        \"samples\": [\n          3.8,\n          7.8,\n          8.3\n        ],\n        \"semantic_type\": \"\",\n        \"description\": \"\"\n      }\n    }\n  ]\n}"
            }
          },
          "metadata": {},
          "execution_count": 5
        }
      ],
      "source": [
        "#load dataset\n",
        "# Update the path if needed (make sure the CSV is in the same folder or give full path)\n",
        "df = pd.read_csv('Mental_Health_Lifestyle_Dataset.csv')\n",
        "\n",
        "# Preview data\n",
        "df.head()"
      ]
    },
    {
      "cell_type": "markdown",
      "id": "e17344bc",
      "metadata": {
        "id": "e17344bc"
      },
      "source": [
        "# Questions"
      ]
    },
    {
      "cell_type": "markdown",
      "id": "94ecc148",
      "metadata": {
        "id": "94ecc148"
      },
      "source": [
        "1. What is the gender and age distribution in the dataset?\n",
        "2. Which mental health conditions are most common?\n",
        "3. How does depression relate to sleep hours?\n",
        "4. Are there demographic differences (age/gender) in mental health conditions?\n",
        "5. What lifestyle factors (exercise, alcohol, work hours) are linked with mental health?"
      ]
    },
    {
      "cell_type": "markdown",
      "id": "9b87a724",
      "metadata": {
        "id": "9b87a724"
      },
      "source": [
        "# Trends & Visualizations"
      ]
    },
    {
      "cell_type": "code",
      "source": [
        "#Gender Distribution\n",
        "plt.figure(figsize=(8,5))\n",
        "sns.countplot(\n",
        "    x=\"Gender\",\n",
        "    data=df\n",
        ")\n",
        "plt.title(\"Gender Distribution\", fontsize=14)\n",
        "plt.show()\n"
      ],
      "metadata": {
        "colab": {
          "base_uri": "https://localhost:8080/",
          "height": 497
        },
        "id": "hcerN0RWiJlx",
        "outputId": "65236c6a-1134-4785-c31e-fe4b3b316849"
      },
      "id": "hcerN0RWiJlx",
      "execution_count": 10,
      "outputs": [
        {
          "output_type": "display_data",
          "data": {
            "text/plain": [
              "<Figure size 800x500 with 1 Axes>"
            ],
            "image/png": "[encoded data removed]"
          },
          "metadata": {}
        }
      ]
    },
    {
      "cell_type": "code",
      "source": [
        "#Anxiety Across Age Groups\n",
        "plt.figure(figsize=(16,6))   # wider figure\n",
        "anxiety_df = df[df['Mental Health Condition'] == 'Anxiety']\n",
        "\n",
        "sns.countplot(\n",
        "    x=\"Age\",\n",
        "    hue=\"Age\",\n",
        "    data=anxiety_df,\n",
        "    order=sorted(df['Age'].unique()),\n",
        "    palette=\"coolwarm\",\n",
        "    legend=False\n",
        ")\n",
        "\n",
        "plt.title(\"Anxiety Across Age Groups\", fontsize=16)\n",
        "plt.xticks(rotation=75, ha=\"right\", fontsize=9)   # rotate more + smaller font\n",
        "plt.tight_layout()\n",
        "plt.show()\n"
      ],
      "metadata": {
        "colab": {
          "base_uri": "https://localhost:8080/",
          "height": 559
        },
        "id": "11ERjcGOh13Y",
        "outputId": "8113f84e-4f7f-4c33-fe09-5aa03cdf2e01"
      },
      "id": "11ERjcGOh13Y",
      "execution_count": 11,
      "outputs": [
        {
          "output_type": "display_data",
          "data": {
            "text/plain": [
              "<Figure size 1600x600 with 1 Axes>"
            ],
            "image/png": "[encoded data removed]"
          },
          "metadata": {}
        }
      ]
    },
    {
      "cell_type": "code",
      "execution_count": 13,
      "id": "322267f2",
      "metadata": {
        "colab": {
          "base_uri": "https://localhost:8080/",
          "height": 574
        },
        "id": "322267f2",
        "outputId": "6b1a20d2-79e6-4cf3-c8da-82f63a7ba7fc"
      },
      "outputs": [
        {
          "output_type": "display_data",
          "data": {
            "text/plain": [
              "<Figure size 1000x600 with 1 Axes>"
            ],
            "image/png": "[encoded data removed]"
          },
          "metadata": {}
        }
      ],
      "source": [
        "#Sleep Hours & Depression\n",
        "\n",
        "plt.figure(figsize=(10,6))\n",
        "sns.boxplot(\n",
        "    x=\"Mental Health Condition\",\n",
        "    y=\"Sleep Hours\",\n",
        "    data=depression_df\n",
        ")\n",
        "plt.title(\"Sleep Hours vs Mental Health Condition (Depression)\", fontsize=14)\n",
        "plt.show()\n"
      ]
    },
    {
      "cell_type": "markdown",
      "id": "7b540b90",
      "metadata": {
        "id": "7b540b90"
      },
      "source": [
        "# Observations & Results"
      ]
    },
    {
      "cell_type": "markdown",
      "id": "9c9031ad",
      "metadata": {
        "id": "9c9031ad"
      },
      "source": [
        "- The dataset shows a balanced gender distribution.\n",
        "- Anxiety cases appear more frequently among younger groups.\n",
        "- Sleep among individuals with depression varies widely, with a median of 6.5 hours,\n",
        "  but also extreme outliers (very short or very long sleep).\n",
        "- These findings suggest that lifestyle and demographics may shape mental health conditions.\n"
      ]
    },
    {
      "cell_type": "markdown",
      "id": "8aa775e2",
      "metadata": {
        "id": "8aa775e2"
      },
      "source": [
        "# Hypothesis"
      ]
    },
    {
      "cell_type": "markdown",
      "id": "29d87bf8",
      "metadata": {
        "id": "29d87bf8"
      },
      "source": [
        "Individuals with depression are more likely to experience irregular sleep patterns compared\n",
        "to those without depression."
      ]
    },
    {
      "cell_type": "markdown",
      "id": "7972a963",
      "metadata": {
        "id": "7972a963"
      },
      "source": [
        "# Conclusion"
      ]
    },
    {
      "cell_type": "markdown",
      "id": "405594bb",
      "metadata": {
        "id": "405594bb"
      },
      "source": [
        "This analysis highlights the connection between mental health, demographics, and lifestyle.\n",
        "\n",
        "The insights suggest that interventions targeting sleep and lifestyle habits could help reduce\n",
        "the burden of conditions like anxiety and depression."
      ]
    },
    {
      "cell_type": "code",
      "execution_count": null,
      "id": "65bba741",
      "metadata": {
        "id": "65bba741"
      },
      "outputs": [],
      "source": []
    }
  ],
  "metadata": {
    "kernelspec": {
      "display_name": "Python 3 (ipykernel)",
      "language": "python",
      "name": "python3"
    },
    "language_info": {
      "codemirror_mode": {
        "name": "ipython",
        "version": 3
      },
      "file_extension": ".py",
      "mimetype": "text/x-python",
      "name": "python",
      "nbconvert_exporter": "python",
      "pygments_lexer": "ipython3",
      "version": "3.8.8"
    },
    "colab": {
      "provenance": []
    }
  },
  "nbformat": 4,
  "nbformat_minor": 5
}